{
  "nbformat": 4,
  "nbformat_minor": 0,
  "metadata": {
    "colab": {
      "provenance": [],
      "authorship_tag": "ABX9TyMs2a01LtesVsVpAqXwN9uS",
      "include_colab_link": true
    },
    "kernelspec": {
      "name": "python3",
      "display_name": "Python 3"
    },
    "language_info": {
      "name": "python"
    }
  },
  "cells": [
    {
      "cell_type": "markdown",
      "metadata": {
        "id": "view-in-github",
        "colab_type": "text"
      },
      "source": [
        "<a href=\"https://colab.research.google.com/github/MehediNoor911/NumPy/blob/main/ID_2030921_Md_Mehedi_Hasan_Lab_Test_2.ipynb\" target=\"_parent\"><img src=\"https://colab.research.google.com/assets/colab-badge.svg\" alt=\"Open In Colab\"/></a>"
      ]
    },
    {
      "cell_type": "markdown",
      "source": [
        "##Answer of Question 1:"
      ],
      "metadata": {
        "id": "ilv8Q65c4EKO"
      }
    },
    {
      "cell_type": "code",
      "execution_count": 5,
      "metadata": {
        "id": "aPQKOUcJTK1C"
      },
      "outputs": [],
      "source": [
        "import pandas as pd\n",
        "import numpy as np\n",
        "import matplotlib.pyplot as plt"
      ]
    },
    {
      "cell_type": "code",
      "source": [
        "#drive mounting\n",
        "from google.colab import drive\n",
        "drive.mount('/content/drive')"
      ],
      "metadata": {
        "colab": {
          "base_uri": "https://localhost:8080/"
        },
        "id": "HeSzZKN_UHms",
        "outputId": "61ed5293-6493-4753-a398-fd772e985088"
      },
      "execution_count": 7,
      "outputs": [
        {
          "output_type": "stream",
          "name": "stdout",
          "text": [
            "Mounted at /content/drive\n"
          ]
        }
      ]
    },
    {
      "cell_type": "code",
      "source": [
        "#changing the current directory\n",
        "%cd drive/MyDrive/data\n",
        "!ls"
      ],
      "metadata": {
        "colab": {
          "base_uri": "https://localhost:8080/"
        },
        "id": "ce65BwU2Uqe_",
        "outputId": "101e9374-8a78-4ed3-8a82-3c3538413c86"
      },
      "execution_count": 8,
      "outputs": [
        {
          "output_type": "stream",
          "name": "stdout",
          "text": [
            "/content/drive/MyDrive/data\n",
            " Admission_Predict.csv\t Dog\t\t\t        PetImagesSmall.zip\n",
            " bookprice.csv\t\t'gray_Lenna_(test_image).png'   rainfall_data.csv\n",
            " Cat\t\t\t'Lenna_(test_image).png'        seeds_dataset.csv\n"
          ]
        }
      ]
    },
    {
      "cell_type": "code",
      "source": [
        "#read the Admission_Predict.csv file\n",
        "data = pd.read_csv(\"Admission_Predict.csv\")\n",
        "#print(data)\n",
        "print(data.columns) #show column's titles"
      ],
      "metadata": {
        "id": "3R659bDpVsY1",
        "colab": {
          "base_uri": "https://localhost:8080/"
        },
        "outputId": "d61bcf79-6f82-4692-c078-3daed368e21f"
      },
      "execution_count": 9,
      "outputs": [
        {
          "output_type": "stream",
          "name": "stdout",
          "text": [
            "Index(['Serial No.', 'GRE Score', 'TOEFL Score', 'University Rating', 'SOP',\n",
            "       'LOR ', 'CGPA', 'Research', 'Chance of Admit '],\n",
            "      dtype='object')\n"
          ]
        }
      ]
    },
    {
      "cell_type": "code",
      "source": [
        "a = data[\"GRE Score\"].to_numpy() #GRE score's data push in a variable as numPy array\n",
        "b = data[\"Chance of Admit \"].to_numpy() #Chance of Admit's data push in a variable as numPy array\n",
        "# print(type(a))\n",
        "# print(b)"
      ],
      "metadata": {
        "id": "AXlZ2ogTWKXs"
      },
      "execution_count": 10,
      "outputs": []
    },
    {
      "cell_type": "code",
      "source": [
        "coefficient = np.polyfit(a, b, 1) # return list of cofficients in reverse"
      ],
      "metadata": {
        "id": "WcTIPt8vX-fz"
      },
      "execution_count": 11,
      "outputs": []
    },
    {
      "cell_type": "code",
      "source": [
        "def f(x):\n",
        "  return coefficient[1] + coefficient[0]*x #linear function"
      ],
      "metadata": {
        "id": "UyL9XVv9pF2N"
      },
      "execution_count": 12,
      "outputs": []
    },
    {
      "cell_type": "code",
      "source": [
        "a_mean = np.sum(a)/a.size\n",
        "b_mean = np.sum(b)/b.size\n",
        "\n",
        "a_demean = a - a_mean\n",
        "b_demean = b - b_mean"
      ],
      "metadata": {
        "id": "do7_emJmwSMF"
      },
      "execution_count": 13,
      "outputs": []
    },
    {
      "cell_type": "code",
      "source": [
        "b_pred = f(a)\n",
        "error = b - b_pred\n",
        "\n",
        "SSE = np.dot(error, error)\n",
        "SST = np.dot(b_demean, b_demean)\n",
        "\n",
        "MSE = SSE/b_pred.size #calculate Mean Squared Error\n",
        "r_squared = 1 - SSE/SST #calculate r^2 to understand how properly data fit\n",
        "\n",
        "print(f\"Mean Squared Error: {MSE}\")\n",
        "print(f\"R-squared: {r_squared}\")"
      ],
      "metadata": {
        "colab": {
          "base_uri": "https://localhost:8080/"
        },
        "id": "B6LGineEwUjt",
        "outputId": "e53c7ca3-c8f7-4f12-a08e-12f0a3775c42"
      },
      "execution_count": 14,
      "outputs": [
        {
          "output_type": "stream",
          "name": "stdout",
          "text": [
            "Mean Squared Error: 0.007218297991867959\n",
            "R-squared: 0.6441835498438335\n"
          ]
        }
      ]
    },
    {
      "cell_type": "code",
      "source": [
        "min_point= np.min(a)\n",
        "max_point= np.max(a)\n",
        "x = np.linspace(min_point, max_point, 100)\n",
        "y = f(x)\n",
        "plt.scatter(a, b)\n",
        "plt.plot(x, y, \"r\")\n",
        "plt.xlabel(\"GRE Score\")\n",
        "plt.ylabel(\"Chance of Admit\")\n",
        "plt.title('Linear Regression: GRE Score vs Chance of Admit')\n",
        "plt.show()"
      ],
      "metadata": {
        "colab": {
          "base_uri": "https://localhost:8080/",
          "height": 489
        },
        "id": "_Jxs3Z7grxg3",
        "outputId": "5b2d6f0d-8584-4303-8ce2-b4f00b0a688a"
      },
      "execution_count": null,
      "outputs": [
        {
          "output_type": "stream",
          "name": "stdout",
          "text": [
            "290 340\n"
          ]
        },
        {
          "output_type": "display_data",
          "data": {
            "text/plain": [
              "<Figure size 640x480 with 1 Axes>"
            ],
            "image/png": "[encoded data removed]"
          },
          "metadata": {}
        }
      ]
    },
    {
      "cell_type": "markdown",
      "source": [
        "##Answer of Question 2:"
      ],
      "metadata": {
        "id": "0juo38u74OZa"
      }
    },
    {
      "cell_type": "code",
      "source": [
        "data_in_array = data.to_numpy()\n",
        "new_data_in_array = data_in_array[:, 1:]\n",
        "#print(new_data_in_array)\n",
        "np.random.shuffle(new_data_in_array)\n",
        "new_data_in_array.shape\n",
        "#print(data_in_array)"
      ],
      "metadata": {
        "colab": {
          "base_uri": "https://localhost:8080/"
        },
        "id": "zMrqW4Ah4Re6",
        "outputId": "8066a439-6af8-4de8-fc47-407227561af9"
      },
      "execution_count": 21,
      "outputs": [
        {
          "output_type": "execute_result",
          "data": {
            "text/plain": [
              "(400, 8)"
            ]
          },
          "metadata": {},
          "execution_count": 21
        }
      ]
    },
    {
      "cell_type": "code",
      "source": [
        "features = new_data_in_array[:, :-1]\n",
        "labels = new_data_in_array[:, -1]\n",
        "\n",
        "print(\"Features shape:\", features.shape)\n",
        "print(\"Labels shape:\", labels.shape)\n",
        "# print(features)\n",
        "# print(labels)"
      ],
      "metadata": {
        "colab": {
          "base_uri": "https://localhost:8080/"
        },
        "id": "Alhs9odm8a4p",
        "outputId": "e2a588e4-f723-4e55-9319-d1c34f8c69d8"
      },
      "execution_count": 22,
      "outputs": [
        {
          "output_type": "stream",
          "name": "stdout",
          "text": [
            "Features shape: (400, 7)\n",
            "Labels shape: (400,)\n"
          ]
        }
      ]
    },
    {
      "cell_type": "code",
      "source": [
        "min_values = np.min(features, axis=0)\n",
        "max_values = np.max(features, axis=0)\n",
        "print(min_values)\n",
        "print(max_values)"
      ],
      "metadata": {
        "colab": {
          "base_uri": "https://localhost:8080/"
        },
        "id": "YOqnd9AMdV0p",
        "outputId": "db9ab6f2-d9ab-4b3a-8916-fd0595758f55"
      },
      "execution_count": 26,
      "outputs": [
        {
          "output_type": "stream",
          "name": "stdout",
          "text": [
            "[290.   92.    1.    1.    1.    6.8   0. ]\n",
            "[340.   120.     5.     5.     5.     9.92   1.  ]\n"
          ]
        }
      ]
    },
    {
      "cell_type": "code",
      "source": [
        "def data_normalization(M):\n",
        "  return (M - min_values) / (max_values - min_values)"
      ],
      "metadata": {
        "id": "Wtg8E2gYdzzL"
      },
      "execution_count": 27,
      "outputs": []
    },
    {
      "cell_type": "code",
      "source": [
        "normalized_features = data_normalization(features)\n",
        "print(normalized_features)"
      ],
      "metadata": {
        "id": "_y6TFarmfHLa"
      },
      "execution_count": null,
      "outputs": []
    },
    {
      "cell_type": "code",
      "source": [
        "train_size = int(0.75 * len(normalized_features))\n",
        "\n",
        "train_features, test_features = np.split(normalized_features, [train_size], axis=0)\n",
        "train_labels, test_labels = np.split(labels, [train_size], axis=0)\n",
        "\n",
        "train_features.shape, train_labels.shape, test_features.shape, test_labels.shape"
      ],
      "metadata": {
        "colab": {
          "base_uri": "https://localhost:8080/"
        },
        "id": "rGHq5eD6_CGD",
        "outputId": "b7e17c19-d41c-47cb-abe3-bb5ec19a7f27"
      },
      "execution_count": 29,
      "outputs": [
        {
          "output_type": "execute_result",
          "data": {
            "text/plain": [
              "((300, 7), (300,), (100, 7), (100,))"
            ]
          },
          "metadata": {},
          "execution_count": 29
        }
      ]
    },
    {
      "cell_type": "code",
      "source": [
        "def euclidean_distance(features, train_features):\n",
        "  return np.sqrt((features-train_features)**2)"
      ],
      "metadata": {
        "id": "RwkTEE_UcY4X"
      },
      "execution_count": 46,
      "outputs": []
    },
    {
      "cell_type": "code",
      "source": [
        "def k_nearest_neighbors(features, train_features, train_labels, k=1):\n",
        "  distances = np.average(euclidean_distance(features, train_features), axis = 1)\n",
        "  sorted_indices = np.argsort(distances)\n",
        "  return train_labels[sorted_indices[:k]]\n",
        ""
      ],
      "metadata": {
        "id": "Ta1_MWu4p84V"
      },
      "execution_count": 113,
      "outputs": []
    },
    {
      "cell_type": "code",
      "source": [
        "i =15\n",
        "K_closest_labels = k_nearest_neighbors(test_features[i], train_features, train_labels, k=3)\n",
        "print(K_closest_labels)\n",
        "sum = 0\n",
        "for i in range(len(K_closest_labels)):\n",
        "  if K_closest_labels[i] > 0.5:\n",
        "    sum = sum + 1\n",
        "if sum > len(K_closest_labels)/2:\n",
        "  print(\"Chance of Admission: High\")\n",
        "else:\n",
        "  print(\"Chance of Admission: Low\")\n",
        "\n",
        ""
      ],
      "metadata": {
        "colab": {
          "base_uri": "https://localhost:8080/"
        },
        "id": "d6-qaOV7isy9",
        "outputId": "cf15fa20-089e-4377-a5ba-6752d786f62b"
      },
      "execution_count": 114,
      "outputs": [
        {
          "output_type": "stream",
          "name": "stdout",
          "text": [
            "[0.59 0.73 0.84]\n",
            "Chance of Admission: High\n"
          ]
        }
      ]
    },
    {
      "cell_type": "markdown",
      "source": [
        "###a"
      ],
      "metadata": {
        "id": "tJij5Jjjpf5i"
      }
    },
    {
      "cell_type": "code",
      "source": [
        "def predict(features, train_features, train_labels, k=1):\n",
        "    predicted_labels = np.empty(len(features))\n",
        "    for i, new_features in enumerate(features):\n",
        "        predicted_labels[i] = k_nearest_neighbors(new_features, train_features, train_labels)\n",
        "    return predicted_labels"
      ],
      "metadata": {
        "id": "AYkB2vWBpjAo"
      },
      "execution_count": 117,
      "outputs": []
    },
    {
      "cell_type": "code",
      "source": [
        "predicted_labels = predict(test_features, train_features, train_labels, k=3)\n",
        "for i in range(len(test_features)):\n",
        "    print(\"Actual Chance of Admit:\", test_labels[i], \"Predicted Chance of Admit:\", predicted_labels[i])"
      ],
      "metadata": {
        "id": "F_G5BEXGyDs_"
      },
      "execution_count": null,
      "outputs": []
    },
    {
      "cell_type": "code",
      "source": [
        "def accuracy(predicted_labels, test_labels):\n",
        "    correct_predictions = np.sum(predicted_labels == test_labels)\n",
        "    total_test_labels = len(test_labels)\n",
        "    accuracy = correct_predictions / total_test_labels\n",
        "    #print(correct_predictions, total_test_labels)\n",
        "    return accuracy"
      ],
      "metadata": {
        "id": "rMC-S1Wl6aZX"
      },
      "execution_count": 119,
      "outputs": []
    },
    {
      "cell_type": "code",
      "source": [
        "acc = accuracy(predicted_labels, test_labels)\n",
        "print(\"Accuracy of the model :\", acc)"
      ],
      "metadata": {
        "colab": {
          "base_uri": "https://localhost:8080/"
        },
        "id": "k158lVjT9a9U",
        "outputId": "e8d467ab-55b3-4ab6-b78c-1d22e14df9b6"
      },
      "execution_count": 120,
      "outputs": [
        {
          "output_type": "stream",
          "name": "stdout",
          "text": [
            "Accuracy of the model : 0.08\n"
          ]
        }
      ]
    },
    {
      "cell_type": "markdown",
      "source": [
        "###b"
      ],
      "metadata": {
        "id": "mx9OtV0WM1Ex"
      }
    },
    {
      "cell_type": "code",
      "source": [
        "k_values = [3, 5, 7, 9]\n",
        "accuracies = []\n",
        "for k in k_values:\n",
        "  predicted_labels = predict(test_features, train_features, train_labels, k=i)\n",
        "  acc = accuracy(predicted_labels, test_labels)\n",
        "  accuracies.append((acc))\n",
        "  print(f\"Accuracy for k={k}: {accuracy}\")\n",
        "\n",
        "plt.plot(k_values, accuracies, marker='o')\n",
        "plt.xlabel('k')\n",
        "plt.ylabel('Accuracy')\n",
        "plt.title('Accuracy vs. k for KNN')\n",
        "plt.xticks(k_values)\n",
        "plt.grid(True)\n",
        "plt.show()"
      ],
      "metadata": {
        "id": "OURjxIRZM3C0"
      },
      "execution_count": null,
      "outputs": []
    }
  ]
}