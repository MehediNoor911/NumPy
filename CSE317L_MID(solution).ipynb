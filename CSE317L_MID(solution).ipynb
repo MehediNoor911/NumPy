{
  "nbformat": 4,
  "nbformat_minor": 0,
  "metadata": {
    "colab": {
      "provenance": [],
      "authorship_tag": "ABX9TyPjBUZs5mAqqyXTjK7f4OeS",
      "include_colab_link": true
    },
    "kernelspec": {
      "name": "python3",
      "display_name": "Python 3"
    },
    "language_info": {
      "name": "python"
    }
  },
  "cells": [
    {
      "cell_type": "markdown",
      "metadata": {
        "id": "view-in-github",
        "colab_type": "text"
      },
      "source": [
        "<a href=\"https://colab.research.google.com/github/MehediNoor911/NumPy/blob/main/CSE317L_MID(solution).ipynb\" target=\"_parent\"><img src=\"https://colab.research.google.com/assets/colab-badge.svg\" alt=\"Open In Colab\"/></a>"
      ]
    },
    {
      "cell_type": "code",
      "source": [
        "import numpy as np\n",
        "import math"
      ],
      "metadata": {
        "id": "yZ1cspwcayKn"
      },
      "execution_count": null,
      "outputs": []
    },
    {
      "cell_type": "code",
      "execution_count": null,
      "metadata": {
        "id": "fU1SI3-7ZsWn"
      },
      "outputs": [],
      "source": [
        "def f(x):\n",
        "  return (1 + x**2)**0.5"
      ]
    },
    {
      "cell_type": "code",
      "source": [
        "def central_diff(x, n, h):\n",
        "  if n == 0:\n",
        "    return f(x)\n",
        "  else:\n",
        "    return (central_diff(x+h, n-1, h)-central_diff(x-h, n-1, h))/(2*h)"
      ],
      "metadata": {
        "id": "0aOazX0Ta6_E"
      },
      "execution_count": null,
      "outputs": []
    },
    {
      "cell_type": "code",
      "source": [
        "central_diff(0, 1, 0.1)"
      ],
      "metadata": {
        "colab": {
          "base_uri": "https://localhost:8080/"
        },
        "id": "8Da0EDVrnHHG",
        "outputId": "7374885e-0b71-48eb-ce58-abdcacc7b739"
      },
      "execution_count": null,
      "outputs": [
        {
          "output_type": "execute_result",
          "data": {
            "text/plain": [
              "0.0"
            ]
          },
          "metadata": {},
          "execution_count": 9
        }
      ]
    },
    {
      "cell_type": "code",
      "source": [
        "def forward_diff(x, n, h):\n",
        "  if n == 0:\n",
        "    return f(x)\n",
        "  else:\n",
        "    return (forward_diff(x+h, n-1, h)-forward_diff(x, n-1, h))/h"
      ],
      "metadata": {
        "id": "y6xHPK9ybd8Z"
      },
      "execution_count": null,
      "outputs": []
    },
    {
      "cell_type": "code",
      "source": [
        "forward_diff(0, 1, 0.1)"
      ],
      "metadata": {
        "colab": {
          "base_uri": "https://localhost:8080/"
        },
        "id": "8-3hilZYqEuC",
        "outputId": "4cf0611d-f6b4-453a-de20-a8a32d1c7401"
      },
      "execution_count": null,
      "outputs": [
        {
          "output_type": "execute_result",
          "data": {
            "text/plain": [
              "0.0498756211208895"
            ]
          },
          "metadata": {},
          "execution_count": 10
        }
      ]
    },
    {
      "cell_type": "code",
      "source": [
        "def Macluarine_approx_central(x, n):\n",
        "  a=0\n",
        "  h=0.1\n",
        "  sum=0\n",
        "  for i in range(n+1):\n",
        "    sum = sum + (central_diff(a, i, h)*(x**i))/math.factorial(i)\n",
        "  return sum\n"
      ],
      "metadata": {
        "id": "spv2iPtfbpWD"
      },
      "execution_count": null,
      "outputs": []
    },
    {
      "cell_type": "code",
      "source": [
        "Macluarine_approx_central(1.5, 2)"
      ],
      "metadata": {
        "colab": {
          "base_uri": "https://localhost:8080/"
        },
        "id": "sJTsvBaHf3V5",
        "outputId": "212a8df2-713e-4aa9-c0b9-af868440297a"
      },
      "execution_count": null,
      "outputs": [
        {
          "output_type": "execute_result",
          "data": {
            "text/plain": [
              "2.113969527918833"
            ]
          },
          "metadata": {},
          "execution_count": 76
        }
      ]
    },
    {
      "cell_type": "code",
      "source": [
        "def Macluarine_approx_forward(x, n):\n",
        "  a=0\n",
        "  h=0.1\n",
        "  sum=0\n",
        "  for i in range(n+1):\n",
        "    sum = sum + (forward_diff(a, i, h)*x**i)/math.factorial(i)\n",
        "  return sum"
      ],
      "metadata": {
        "id": "2wWv0w87ek7U"
      },
      "execution_count": null,
      "outputs": []
    },
    {
      "cell_type": "code",
      "source": [
        "Macluarine_approx_forward(1.5, 2)"
      ],
      "metadata": {
        "colab": {
          "base_uri": "https://localhost:8080/"
        },
        "id": "NFkFVUR1f36b",
        "outputId": "77e7eed7-3484-486b-9300-4b2fb3a43a78"
      },
      "execution_count": null,
      "outputs": [
        {
          "output_type": "execute_result",
          "data": {
            "text/plain": [
              "2.5"
            ]
          },
          "metadata": {},
          "execution_count": 24
        }
      ]
    },
    {
      "cell_type": "code",
      "source": [
        "error = 10\n",
        "epsilon = 0.005\n",
        "n =0\n",
        "x =1.5\n",
        "while error > epsilon:\n",
        "  n = n+2\n",
        "  error = np.abs((f(x) - Macluarine_approx_central(x, n))/f(x))\n",
        "print(error)\n",
        "print(f\"{n}th order is the minimum order to overcome 0.005 error\")\n"
      ],
      "metadata": {
        "colab": {
          "base_uri": "https://localhost:8080/"
        },
        "id": "BJlt1LFAe927",
        "outputId": "a51a954d-6b9a-4073-e1b0-59e70ff25569"
      },
      "execution_count": null,
      "outputs": [
        {
          "output_type": "stream",
          "name": "stdout",
          "text": [
            "0.004337953078990072\n",
            "20th order is the minimum order to overcome 0.005 error\n"
          ]
        }
      ]
    },
    {
      "cell_type": "code",
      "source": [],
      "metadata": {
        "id": "N6Rxgy80tMHL"
      },
      "execution_count": null,
      "outputs": []
    },
    {
      "cell_type": "code",
      "source": [
        "error = 10\n",
        "epsilon = 0.005\n",
        "n =1\n",
        "x =1.5\n",
        "while error > epsilon:\n",
        "  n = n+1\n",
        "  error = np.abs((f(x) - Macluarine_approx_forward(x, n))/f(x))\n",
        "print(error)\n",
        "print(f\"{n}th order is the minimum order to overcome 0.005 error\")"
      ],
      "metadata": {
        "colab": {
          "base_uri": "https://localhost:8080/"
        },
        "id": "ycRuFxgqit7-",
        "outputId": "c980718d-fe1f-432b-83a3-47dce4befbd3"
      },
      "execution_count": null,
      "outputs": [
        {
          "output_type": "stream",
          "name": "stdout",
          "text": [
            "0.003178459503025337\n",
            "20th order is the minimum order to overcome 0.005 error\n"
          ]
        }
      ]
    }
  ]
}