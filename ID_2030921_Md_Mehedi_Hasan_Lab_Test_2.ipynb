{
  "nbformat": 4,
  "nbformat_minor": 0,
  "metadata": {
    "colab": {
      "provenance": [],
      "authorship_tag": "ABX9TyMoikHJuHRnx6RBkBVKYCE+",
      "include_colab_link": true
    },
    "kernelspec": {
      "name": "python3",
      "display_name": "Python 3"
    },
    "language_info": {
      "name": "python"
    }
  },
  "cells": [
    {
      "cell_type": "markdown",
      "metadata": {
        "id": "view-in-github",
        "colab_type": "text"
      },
      "source": [
        "<a href=\"https://colab.research.google.com/github/MehediNoor911/NumPy/blob/main/ID_2030921_Md_Mehedi_Hasan_Lab_Test_2.ipynb\" target=\"_parent\"><img src=\"https://colab.research.google.com/assets/colab-badge.svg\" alt=\"Open In Colab\"/></a>"
      ]
    },
    {
      "cell_type": "markdown",
      "source": [
        "##Answer of Question 1:"
      ],
      "metadata": {
        "id": "ilv8Q65c4EKO"
      }
    },
    {
      "cell_type": "code",
      "execution_count": 277,
      "metadata": {
        "id": "aPQKOUcJTK1C"
      },
      "outputs": [],
      "source": [
        "import pandas as pd\n",
        "import numpy as np\n",
        "import matplotlib.pyplot as plt"
      ]
    },
    {
      "cell_type": "code",
      "source": [
        "#drive mounting\n",
        "from google.colab import drive\n",
        "drive.mount('/content/drive')"
      ],
      "metadata": {
        "colab": {
          "base_uri": "https://localhost:8080/"
        },
        "id": "HeSzZKN_UHms",
        "outputId": "59ec654f-6315-4581-8306-57d3fd974882"
      },
      "execution_count": 278,
      "outputs": [
        {
          "output_type": "stream",
          "name": "stdout",
          "text": [
            "Drive already mounted at /content/drive; to attempt to forcibly remount, call drive.mount(\"/content/drive\", force_remount=True).\n"
          ]
        }
      ]
    },
    {
      "cell_type": "code",
      "source": [
        "#changing the current directory\n",
        "%cd drive/MyDrive/data\n",
        "!ls"
      ],
      "metadata": {
        "colab": {
          "base_uri": "https://localhost:8080/"
        },
        "id": "ce65BwU2Uqe_",
        "outputId": "5d9c0a31-e6d7-499a-e330-df6aa2b6fe91"
      },
      "execution_count": 279,
      "outputs": [
        {
          "output_type": "stream",
          "name": "stdout",
          "text": [
            "[Errno 2] No such file or directory: 'drive/MyDrive/data'\n",
            "/content/drive/MyDrive/data\n",
            " Admission_Predict.csv\t Dog\t\t\t        PetImagesSmall.zip\n",
            " bookprice.csv\t\t'gray_Lenna_(test_image).png'   rainfall_data.csv\n",
            " Cat\t\t\t'Lenna_(test_image).png'        seeds_dataset.csv\n"
          ]
        }
      ]
    },
    {
      "cell_type": "code",
      "source": [
        "#read the Admission_Predict.csv file\n",
        "data = pd.read_csv(\"Admission_Predict.csv\")\n",
        "#print(data)\n",
        "print(data.columns) #show column's titles"
      ],
      "metadata": {
        "id": "3R659bDpVsY1",
        "colab": {
          "base_uri": "https://localhost:8080/"
        },
        "outputId": "46b42aef-1dcc-462e-93a9-39f5cccd2667"
      },
      "execution_count": 280,
      "outputs": [
        {
          "output_type": "stream",
          "name": "stdout",
          "text": [
            "Index(['Serial No.', 'GRE Score', 'TOEFL Score', 'University Rating', 'SOP',\n",
            "       'LOR ', 'CGPA', 'Research', 'Chance of Admit '],\n",
            "      dtype='object')\n"
          ]
        }
      ]
    },
    {
      "cell_type": "code",
      "source": [
        "a = data[\"GRE Score\"].to_numpy() #GRE score's data push in a variable as numPy array\n",
        "b = data[\"Chance of Admit \"].to_numpy() #Chance of Admit's data push in a variable as numPy array\n",
        "# print(type(a))\n",
        "# print(b)"
      ],
      "metadata": {
        "id": "AXlZ2ogTWKXs"
      },
      "execution_count": 281,
      "outputs": []
    },
    {
      "cell_type": "code",
      "source": [
        "coefficient = np.polyfit(a, b, 1) # return list of cofficients in reverse"
      ],
      "metadata": {
        "id": "WcTIPt8vX-fz"
      },
      "execution_count": 282,
      "outputs": []
    },
    {
      "cell_type": "code",
      "source": [
        "def f(x):\n",
        "  return coefficient[1] + coefficient[0]*x #linear function"
      ],
      "metadata": {
        "id": "UyL9XVv9pF2N"
      },
      "execution_count": 283,
      "outputs": []
    },
    {
      "cell_type": "code",
      "source": [
        "a_mean = np.sum(a)/a.size\n",
        "b_mean = np.sum(b)/b.size\n",
        "\n",
        "a_demean = a - a_mean\n",
        "b_demean = b - b_mean"
      ],
      "metadata": {
        "id": "do7_emJmwSMF"
      },
      "execution_count": 284,
      "outputs": []
    },
    {
      "cell_type": "code",
      "source": [
        "b_pred = f(a)\n",
        "error = b - b_pred\n",
        "\n",
        "SSE = np.dot(error, error)\n",
        "SST = np.dot(b_demean, b_demean)\n",
        "\n",
        "MSE = SSE/b_pred.size #calculate Mean Squared Error\n",
        "r_squared = 1 - SSE/SST #calculate r^2 to understand how properly data fit\n",
        "\n",
        "print(f\"Mean Squared Error: {MSE}\")\n",
        "print(f\"R-squared: {r_squared}\")"
      ],
      "metadata": {
        "colab": {
          "base_uri": "https://localhost:8080/"
        },
        "id": "B6LGineEwUjt",
        "outputId": "c23689b3-2787-42ce-cff9-e76b14338b88"
      },
      "execution_count": 285,
      "outputs": [
        {
          "output_type": "stream",
          "name": "stdout",
          "text": [
            "Mean Squared Error: 0.007218297991867959\n",
            "R-squared: 0.6441835498438335\n"
          ]
        }
      ]
    },
    {
      "cell_type": "code",
      "source": [
        "min_point= np.min(a)\n",
        "max_point= np.max(a)\n",
        "x = np.linspace(min_point, max_point, 100)\n",
        "y = f(x)\n",
        "plt.scatter(a, b)\n",
        "plt.plot(x, y, \"r\")\n",
        "plt.xlabel(\"GRE Score\")\n",
        "plt.ylabel(\"Chance of Admit\")\n",
        "plt.title('Linear Regression: GRE Score vs Chance of Admit')\n",
        "plt.show()"
      ],
      "metadata": {
        "colab": {
          "base_uri": "https://localhost:8080/",
          "height": 472
        },
        "id": "_Jxs3Z7grxg3",
        "outputId": "5afbd2cd-beb1-4dd8-d0e3-4caf78e8cbd7"
      },
      "execution_count": 286,
      "outputs": [
        {
          "output_type": "display_data",
          "data": {
            "text/plain": [
              "<Figure size 640x480 with 1 Axes>"
            ],
            "image/png": "[encoded data removed]"
          },
          "metadata": {}
        }
      ]
    },
    {
      "cell_type": "markdown",
      "source": [
        "##Answer of Question 2:"
      ],
      "metadata": {
        "id": "0juo38u74OZa"
      }
    },
    {
      "cell_type": "code",
      "source": [
        "data_in_array = data.to_numpy()\n",
        "new_data_in_array = data_in_array[:, 1:]\n",
        "#print(new_data_in_array)\n",
        "np.random.shuffle(new_data_in_array)\n",
        "new_data_in_array.shape\n",
        "#print(data_in_array)"
      ],
      "metadata": {
        "colab": {
          "base_uri": "https://localhost:8080/"
        },
        "id": "zMrqW4Ah4Re6",
        "outputId": "b3361e0a-910d-4619-8a14-810b649d2b54"
      },
      "execution_count": 287,
      "outputs": [
        {
          "output_type": "execute_result",
          "data": {
            "text/plain": [
              "(400, 8)"
            ]
          },
          "metadata": {},
          "execution_count": 287
        }
      ]
    },
    {
      "cell_type": "code",
      "source": [
        "features = new_data_in_array[:, :-1]\n",
        "labels = new_data_in_array[:, -1]\n",
        "\n",
        "print(\"Features shape:\", features.shape)\n",
        "print(\"Labels shape:\", labels.shape)\n",
        "# print(features)\n",
        "# print(labels)"
      ],
      "metadata": {
        "colab": {
          "base_uri": "https://localhost:8080/"
        },
        "id": "Alhs9odm8a4p",
        "outputId": "2bbf867c-50db-41cd-ca5e-2fbdaf84dc79"
      },
      "execution_count": 288,
      "outputs": [
        {
          "output_type": "stream",
          "name": "stdout",
          "text": [
            "Features shape: (400, 7)\n",
            "Labels shape: (400,)\n"
          ]
        }
      ]
    },
    {
      "cell_type": "code",
      "source": [
        "min_values = np.min(features, axis=0)\n",
        "max_values = np.max(features, axis=0)\n",
        "print(min_values)\n",
        "print(max_values)"
      ],
      "metadata": {
        "colab": {
          "base_uri": "https://localhost:8080/"
        },
        "id": "YOqnd9AMdV0p",
        "outputId": "0650b129-403a-4495-abe4-985d36cf2a53"
      },
      "execution_count": 289,
      "outputs": [
        {
          "output_type": "stream",
          "name": "stdout",
          "text": [
            "[290.   92.    1.    1.    1.    6.8   0. ]\n",
            "[340.   120.     5.     5.     5.     9.92   1.  ]\n"
          ]
        }
      ]
    },
    {
      "cell_type": "code",
      "source": [
        "def data_normalization(M):\n",
        "  return (M - min_values) / (max_values - min_values)"
      ],
      "metadata": {
        "id": "Wtg8E2gYdzzL"
      },
      "execution_count": 290,
      "outputs": []
    },
    {
      "cell_type": "code",
      "source": [
        "normalized_features = data_normalization(features)\n",
        "print(normalized_features)"
      ],
      "metadata": {
        "id": "_y6TFarmfHLa",
        "colab": {
          "base_uri": "https://localhost:8080/"
        },
        "outputId": "59f99ba8-1f17-4ee2-c6b4-325fa5d7fb1e"
      },
      "execution_count": 291,
      "outputs": [
        {
          "output_type": "stream",
          "name": "stdout",
          "text": [
            "[[1.         1.         1.         ... 0.875      0.8974359  1.        ]\n",
            " [0.82       0.85714286 1.         ... 0.75       0.78846154 1.        ]\n",
            " [0.44       0.39285714 0.5        ... 0.75       0.63461538 0.        ]\n",
            " ...\n",
            " [0.72       0.64285714 0.5        ... 0.625      0.62820513 1.        ]\n",
            " [0.16       0.32142857 0.25       ... 0.25       0.33974359 0.        ]\n",
            " [0.82       1.         0.5        ... 0.75       0.69230769 1.        ]]\n"
          ]
        }
      ]
    },
    {
      "cell_type": "code",
      "source": [
        "train_size = int(0.75 * len(normalized_features))\n",
        "\n",
        "train_features, test_features = np.split(normalized_features, [train_size], axis=0)\n",
        "train_labels, test_labels = np.split(labels, [train_size], axis=0)\n",
        "\n",
        "train_features.shape, train_labels.shape, test_features.shape, test_labels.shape"
      ],
      "metadata": {
        "colab": {
          "base_uri": "https://localhost:8080/"
        },
        "id": "rGHq5eD6_CGD",
        "outputId": "c2e1b52f-1d39-420b-e745-37631bea7a57"
      },
      "execution_count": 292,
      "outputs": [
        {
          "output_type": "execute_result",
          "data": {
            "text/plain": [
              "((300, 7), (300,), (100, 7), (100,))"
            ]
          },
          "metadata": {},
          "execution_count": 292
        }
      ]
    },
    {
      "cell_type": "code",
      "source": [
        "def euclidean_distance(features, train_features):\n",
        "  return np.sqrt((features-train_features)**2)"
      ],
      "metadata": {
        "id": "RwkTEE_UcY4X"
      },
      "execution_count": 293,
      "outputs": []
    },
    {
      "cell_type": "code",
      "source": [
        "def k_nearest_neighbors(features, train_features, train_labels, k=1):\n",
        "  distances = np.average(euclidean_distance(features, train_features), axis = 1)\n",
        "  sorted_indices = np.argsort(distances)\n",
        "  K_closest_labels = train_labels[sorted_indices[:k]]\n",
        "  sum = 0\n",
        "  for i in range(k):\n",
        "    if K_closest_labels[i] > 0.5:\n",
        "      sum = sum + 1\n",
        "  if sum > k/2:\n",
        "    return 1\n",
        "  else:\n",
        "    return 0"
      ],
      "metadata": {
        "id": "Ta1_MWu4p84V"
      },
      "execution_count": 294,
      "outputs": []
    },
    {
      "cell_type": "code",
      "source": [
        "mapping = {\n",
        "    0:\"Low\",\n",
        "    1:\"High\",\n",
        "}"
      ],
      "metadata": {
        "id": "Sdc-vdjYgxjw"
      },
      "execution_count": 295,
      "outputs": []
    },
    {
      "cell_type": "code",
      "source": [
        "i =15\n",
        "pred_Chance_of_Admit = k_nearest_neighbors(test_features[i], train_features, train_labels, k=3)\n",
        "\n",
        "print(\"KNN prediction Chance of Admit: \", mapping[pred_Chance_of_Admit])\n"
      ],
      "metadata": {
        "colab": {
          "base_uri": "https://localhost:8080/"
        },
        "id": "d6-qaOV7isy9",
        "outputId": "8197d7e1-690b-4355-e546-72ad2b9152e5"
      },
      "execution_count": 296,
      "outputs": [
        {
          "output_type": "stream",
          "name": "stdout",
          "text": [
            "KNN prediction Chance of Admit:  High\n"
          ]
        }
      ]
    },
    {
      "cell_type": "markdown",
      "source": [
        "###a"
      ],
      "metadata": {
        "id": "tJij5Jjjpf5i"
      }
    },
    {
      "cell_type": "code",
      "source": [
        "def predict(features, train_features, train_labels, k=1):\n",
        "    predicted_labels = np.empty(len(features))\n",
        "    for i, new_features in enumerate(features):\n",
        "        predicted_labels[i] = k_nearest_neighbors(new_features, train_features, train_labels, k)\n",
        "    return predicted_labels"
      ],
      "metadata": {
        "id": "AYkB2vWBpjAo"
      },
      "execution_count": 297,
      "outputs": []
    },
    {
      "cell_type": "code",
      "source": [
        "predicted_labels = predict(test_features, train_features, train_labels, 3)\n",
        "for i in range(len(test_features)):\n",
        "    if test_labels[i] > 0.5:\n",
        "      test_labels[i] = 1\n",
        "    else:\n",
        "      test_labels[i] = 0\n",
        "    print(\"Actual Chance of Admit:\", mapping[test_labels[i]], \"Predicted Chance of Admit:\", mapping[predicted_labels[i]])"
      ],
      "metadata": {
        "id": "F_G5BEXGyDs_",
        "colab": {
          "base_uri": "https://localhost:8080/"
        },
        "outputId": "8e03aa0e-ac42-4c3f-9a4a-cc5ce885eed2"
      },
      "execution_count": 298,
      "outputs": [
        {
          "output_type": "stream",
          "name": "stdout",
          "text": [
            "Actual Chance of Admit: High Predicted Chance of Admit: High\n",
            "Actual Chance of Admit: High Predicted Chance of Admit: High\n",
            "Actual Chance of Admit: Low Predicted Chance of Admit: Low\n",
            "Actual Chance of Admit: High Predicted Chance of Admit: High\n",
            "Actual Chance of Admit: High Predicted Chance of Admit: High\n",
            "Actual Chance of Admit: High Predicted Chance of Admit: High\n",
            "Actual Chance of Admit: High Predicted Chance of Admit: High\n",
            "Actual Chance of Admit: High Predicted Chance of Admit: High\n",
            "Actual Chance of Admit: High Predicted Chance of Admit: High\n",
            "Actual Chance of Admit: High Predicted Chance of Admit: High\n",
            "Actual Chance of Admit: High Predicted Chance of Admit: High\n",
            "Actual Chance of Admit: High Predicted Chance of Admit: High\n",
            "Actual Chance of Admit: High Predicted Chance of Admit: High\n",
            "Actual Chance of Admit: High Predicted Chance of Admit: Low\n",
            "Actual Chance of Admit: High Predicted Chance of Admit: High\n",
            "Actual Chance of Admit: High Predicted Chance of Admit: High\n",
            "Actual Chance of Admit: High Predicted Chance of Admit: High\n",
            "Actual Chance of Admit: High Predicted Chance of Admit: High\n",
            "Actual Chance of Admit: High Predicted Chance of Admit: High\n",
            "Actual Chance of Admit: High Predicted Chance of Admit: High\n",
            "Actual Chance of Admit: High Predicted Chance of Admit: High\n",
            "Actual Chance of Admit: High Predicted Chance of Admit: High\n",
            "Actual Chance of Admit: High Predicted Chance of Admit: High\n",
            "Actual Chance of Admit: High Predicted Chance of Admit: High\n",
            "Actual Chance of Admit: High Predicted Chance of Admit: High\n",
            "Actual Chance of Admit: High Predicted Chance of Admit: High\n",
            "Actual Chance of Admit: High Predicted Chance of Admit: High\n",
            "Actual Chance of Admit: High Predicted Chance of Admit: High\n",
            "Actual Chance of Admit: High Predicted Chance of Admit: High\n",
            "Actual Chance of Admit: High Predicted Chance of Admit: High\n",
            "Actual Chance of Admit: High Predicted Chance of Admit: High\n",
            "Actual Chance of Admit: High Predicted Chance of Admit: High\n",
            "Actual Chance of Admit: High Predicted Chance of Admit: High\n",
            "Actual Chance of Admit: High Predicted Chance of Admit: High\n",
            "Actual Chance of Admit: High Predicted Chance of Admit: High\n",
            "Actual Chance of Admit: High Predicted Chance of Admit: High\n",
            "Actual Chance of Admit: High Predicted Chance of Admit: High\n",
            "Actual Chance of Admit: High Predicted Chance of Admit: High\n",
            "Actual Chance of Admit: High Predicted Chance of Admit: High\n",
            "Actual Chance of Admit: High Predicted Chance of Admit: High\n",
            "Actual Chance of Admit: High Predicted Chance of Admit: High\n",
            "Actual Chance of Admit: High Predicted Chance of Admit: High\n",
            "Actual Chance of Admit: High Predicted Chance of Admit: High\n",
            "Actual Chance of Admit: High Predicted Chance of Admit: High\n",
            "Actual Chance of Admit: High Predicted Chance of Admit: High\n",
            "Actual Chance of Admit: High Predicted Chance of Admit: High\n",
            "Actual Chance of Admit: High Predicted Chance of Admit: High\n",
            "Actual Chance of Admit: High Predicted Chance of Admit: High\n",
            "Actual Chance of Admit: High Predicted Chance of Admit: High\n",
            "Actual Chance of Admit: High Predicted Chance of Admit: High\n",
            "Actual Chance of Admit: High Predicted Chance of Admit: High\n",
            "Actual Chance of Admit: High Predicted Chance of Admit: High\n",
            "Actual Chance of Admit: High Predicted Chance of Admit: High\n",
            "Actual Chance of Admit: High Predicted Chance of Admit: Low\n",
            "Actual Chance of Admit: High Predicted Chance of Admit: Low\n",
            "Actual Chance of Admit: High Predicted Chance of Admit: High\n",
            "Actual Chance of Admit: High Predicted Chance of Admit: High\n",
            "Actual Chance of Admit: High Predicted Chance of Admit: High\n",
            "Actual Chance of Admit: High Predicted Chance of Admit: High\n",
            "Actual Chance of Admit: High Predicted Chance of Admit: High\n",
            "Actual Chance of Admit: High Predicted Chance of Admit: High\n",
            "Actual Chance of Admit: High Predicted Chance of Admit: High\n",
            "Actual Chance of Admit: High Predicted Chance of Admit: High\n",
            "Actual Chance of Admit: High Predicted Chance of Admit: High\n",
            "Actual Chance of Admit: High Predicted Chance of Admit: High\n",
            "Actual Chance of Admit: High Predicted Chance of Admit: High\n",
            "Actual Chance of Admit: High Predicted Chance of Admit: High\n",
            "Actual Chance of Admit: Low Predicted Chance of Admit: Low\n",
            "Actual Chance of Admit: High Predicted Chance of Admit: High\n",
            "Actual Chance of Admit: Low Predicted Chance of Admit: Low\n",
            "Actual Chance of Admit: High Predicted Chance of Admit: High\n",
            "Actual Chance of Admit: High Predicted Chance of Admit: High\n",
            "Actual Chance of Admit: High Predicted Chance of Admit: High\n",
            "Actual Chance of Admit: High Predicted Chance of Admit: High\n",
            "Actual Chance of Admit: High Predicted Chance of Admit: High\n",
            "Actual Chance of Admit: High Predicted Chance of Admit: High\n",
            "Actual Chance of Admit: High Predicted Chance of Admit: High\n",
            "Actual Chance of Admit: High Predicted Chance of Admit: High\n",
            "Actual Chance of Admit: High Predicted Chance of Admit: High\n",
            "Actual Chance of Admit: High Predicted Chance of Admit: High\n",
            "Actual Chance of Admit: High Predicted Chance of Admit: High\n",
            "Actual Chance of Admit: High Predicted Chance of Admit: High\n",
            "Actual Chance of Admit: High Predicted Chance of Admit: High\n",
            "Actual Chance of Admit: High Predicted Chance of Admit: High\n",
            "Actual Chance of Admit: High Predicted Chance of Admit: High\n",
            "Actual Chance of Admit: High Predicted Chance of Admit: High\n",
            "Actual Chance of Admit: High Predicted Chance of Admit: High\n",
            "Actual Chance of Admit: Low Predicted Chance of Admit: Low\n",
            "Actual Chance of Admit: High Predicted Chance of Admit: High\n",
            "Actual Chance of Admit: High Predicted Chance of Admit: Low\n",
            "Actual Chance of Admit: High Predicted Chance of Admit: High\n",
            "Actual Chance of Admit: High Predicted Chance of Admit: High\n",
            "Actual Chance of Admit: High Predicted Chance of Admit: High\n",
            "Actual Chance of Admit: Low Predicted Chance of Admit: High\n",
            "Actual Chance of Admit: High Predicted Chance of Admit: High\n",
            "Actual Chance of Admit: High Predicted Chance of Admit: Low\n",
            "Actual Chance of Admit: High Predicted Chance of Admit: High\n",
            "Actual Chance of Admit: High Predicted Chance of Admit: High\n",
            "Actual Chance of Admit: High Predicted Chance of Admit: High\n",
            "Actual Chance of Admit: High Predicted Chance of Admit: High\n"
          ]
        }
      ]
    },
    {
      "cell_type": "code",
      "source": [
        "def accuracy(predicted_labels, test_labels):\n",
        "    for i in range(len(test_features)):\n",
        "      if test_labels[i] > 0.5:\n",
        "        test_labels[i] = 1\n",
        "      else:\n",
        "        test_labels[i] = 0\n",
        "    correct_predictions = np.sum(predicted_labels == test_labels)\n",
        "    total_test_labels = len(test_labels)\n",
        "    accuracy = correct_predictions / total_test_labels\n",
        "    #print(correct_predictions, total_test_labels)\n",
        "    return accuracy"
      ],
      "metadata": {
        "id": "rMC-S1Wl6aZX"
      },
      "execution_count": 299,
      "outputs": []
    },
    {
      "cell_type": "code",
      "source": [
        "acc = accuracy(predicted_labels, test_labels)\n",
        "print(\"Accuracy of the model :\", acc)"
      ],
      "metadata": {
        "colab": {
          "base_uri": "https://localhost:8080/"
        },
        "id": "k158lVjT9a9U",
        "outputId": "fda2a165-bd76-41bb-c549-55b037cb5bd0"
      },
      "execution_count": 300,
      "outputs": [
        {
          "output_type": "stream",
          "name": "stdout",
          "text": [
            "Accuracy of the model : 0.94\n"
          ]
        }
      ]
    },
    {
      "cell_type": "markdown",
      "source": [
        "###b"
      ],
      "metadata": {
        "id": "mx9OtV0WM1Ex"
      }
    },
    {
      "cell_type": "code",
      "source": [
        "k_values = [3, 5, 7, 9]\n",
        "accuracies = []\n",
        "for i in k_values:\n",
        "  prediction = predict(test_features, train_features, train_labels, i)\n",
        "  acc = accuracy(prediction, test_labels)\n",
        "  accuracies.append(acc)\n",
        "  print(f\"Accuracy for k={i}: {acc}\")\n",
        "\n",
        "plt.plot(k_values, accuracies, marker='o')\n",
        "plt.xlabel('k')\n",
        "plt.ylabel('Accuracy')\n",
        "plt.title('Accuracy vs. k for KNN')\n",
        "plt.xticks(k_values)\n",
        "plt.grid(True)\n",
        "plt.show()"
      ],
      "metadata": {
        "colab": {
          "base_uri": "https://localhost:8080/",
          "height": 541
        },
        "id": "OURjxIRZM3C0",
        "outputId": "4c97f079-1b6a-43bd-c783-6b0c0fbadeca"
      },
      "execution_count": 301,
      "outputs": [
        {
          "output_type": "stream",
          "name": "stdout",
          "text": [
            "Accuracy for k=3: 0.94\n",
            "Accuracy for k=5: 0.94\n",
            "Accuracy for k=7: 0.92\n",
            "Accuracy for k=9: 0.9\n"
          ]
        },
        {
          "output_type": "display_data",
          "data": {
            "text/plain": [
              "<Figure size 640x480 with 1 Axes>"
            ],
            "image/png": "[encoded data removed]"
          },
          "metadata": {}
        }
      ]
    }
  ]
}