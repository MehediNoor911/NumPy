{
  "nbformat": 4,
  "nbformat_minor": 0,
  "metadata": {
    "colab": {
      "provenance": [],
      "include_colab_link": true
    },
    "kernelspec": {
      "name": "python3",
      "display_name": "Python 3"
    },
    "language_info": {
      "name": "python"
    }
  },
  "cells": [
    {
      "cell_type": "markdown",
      "metadata": {
        "id": "view-in-github",
        "colab_type": "text"
      },
      "source": [
        "<a href=\"https://colab.research.google.com/github/MehediNoor911/NumPy/blob/main/ID_203092_Md_Mehedi_Hasan_1Lab_Assignment_3.ipynb\" target=\"_parent\"><img src=\"https://colab.research.google.com/assets/colab-badge.svg\" alt=\"Open In Colab\"/></a>"
      ]
    },
    {
      "cell_type": "markdown",
      "source": [
        "## **Problem 1:**\n",
        "A healthy child’s systolic blood pressure p (in millimeters of mercury) and weight w (in pounds) are approximately related by the equation,\n",
        "\n",
        "$$p = \\beta_0 + \\beta_1 \\log(w)$$\n",
        "\n",
        "Hint: consider $x = \\log(w)$\n",
        "\n",
        "Use the following experimental data to estimate the systolic blood pressure of a healthy child weighing 100 pounds.\n",
        "\n",
        "<table>\n",
        "  <tr>\n",
        "    <td>w</td>\n",
        "    <td>44</td>\n",
        "    <td>61</td>\n",
        "    <td>81</td>\n",
        "    <td>113</td>\n",
        "    <td>131</td>\n",
        "  </tr>\n",
        "\n",
        "  <tr>\n",
        "    <td>p</td>\n",
        "    <td>91</td>\n",
        "    <td>98</td>\n",
        "    <td>103</td>\n",
        "    <td>110</td>\n",
        "    <td>112</td>\n",
        "  </tr>\n",
        "</table>"
      ],
      "metadata": {
        "id": "xdg73jF9UdL2"
      }
    },
    {
      "cell_type": "code",
      "source": [
        "import pandas as pd\n",
        "import matplotlib.pyplot as plt\n",
        "import numpy as np\n",
        "from sklearn.metrics import r2_score"
      ],
      "metadata": {
        "id": "aa2B7-vFp0TF"
      },
      "execution_count": null,
      "outputs": []
    },
    {
      "cell_type": "code",
      "source": [
        "# write your code here\n",
        "w = np.array([44, 61, 81, 113, 131])\n",
        "x = np.log(w)\n",
        "\n",
        "p = np.array([91, 98, 103, 110, 112])\n",
        "\n",
        "x_mean = np.sum(x)/x.size\n",
        "p_mean = np.sum(p)/p.size\n",
        "\n",
        "x_demean = x - x_mean\n",
        "p_demean = p - p_mean\n",
        "\n",
        "std_x = np.sqrt(np.dot(x_demean, x_demean)/x_demean.size)\n",
        "std_p = np.sqrt(np.dot(p_demean, p_demean)/p_demean.size)\n",
        "\n",
        "pearson_rho = np.dot(x_demean, p_demean)/np.sqrt(np.dot(x_demean, x_demean) * np.dot(p_demean, p_demean))\n",
        "print(std_x, std_p, pearson_rho)"
      ],
      "metadata": {
        "id": "p8VclWvAUzPN",
        "outputId": "69e1076e-953b-4858-bd5a-b8bedaa8e0e7",
        "colab": {
          "base_uri": "https://localhost:8080/"
        }
      },
      "execution_count": null,
      "outputs": [
        {
          "output_type": "stream",
          "name": "stdout",
          "text": [
            "0.39837516085010144 7.730459236035075 0.9989706897592904\n"
          ]
        }
      ]
    },
    {
      "cell_type": "code",
      "source": [
        "beta1 = pearson_rho * (std_p/std_x)\n",
        "beta0 = p_mean - beta1 * x_mean\n",
        "\n",
        "print(f\"beta0:{beta0} \\nbeta1: {beta1}\")\n",
        "\n",
        "weight_100 = np.log(100)\n",
        "systolic_pressure_100 = beta0 + beta1 * weight_100\n",
        "print(f\"Estimated systolic blood pressure for a child weighing 100 pounds: {systolic_pressure_100}\")\n",
        "\n"
      ],
      "metadata": {
        "id": "fGJF_b1ks7Vu",
        "outputId": "2d6d896f-2d67-484f-ab9f-6320c922d2d5",
        "colab": {
          "base_uri": "https://localhost:8080/"
        }
      },
      "execution_count": null,
      "outputs": [
        {
          "output_type": "stream",
          "name": "stdout",
          "text": [
            "beta0:17.924340124176084 \n",
            "beta1: 19.38499925220945\n",
            "Estimated systolic blood pressure for a child weighing 100 pounds: 107.1955607358525\n"
          ]
        }
      ]
    },
    {
      "cell_type": "markdown",
      "source": [
        "## **Problem 2:**\n",
        "\n",
        "In this assignment, you will implement linear regression (without using `np.polyfit`) and apply it to the [Assignment 3 Dataset](https://docs.google.com/spreadsheets/d/17dWB3kwgzPXRIeuS5YtrbdRHnpSzdH3m/edit?usp=sharing&ouid=101114531299819009465&rtpof=true&sd=true). The dataset contains two columns, the first column is the feature and the second column is the label. The goal is find the best fit line for the data.\n",
        "\n",
        "Use `pd.read_excel()` to read the file and make prediction of rainfall based on the average precipitation for past 10 days. Compare the $r^2$ value obtained from the linear regression with that obtained through quadratic regression (Hint: use `np.polyfit`)\n",
        "\n"
      ],
      "metadata": {
        "id": "xehy9n9lUxYY"
      }
    },
    {
      "cell_type": "code",
      "source": [
        "# write your code here\n",
        "from google.colab import drive\n",
        "drive.mount('/content/drive')"
      ],
      "metadata": {
        "id": "Fs1XFKfzUwmv",
        "outputId": "715ba7a3-df77-4674-cad3-4916c37fad01",
        "colab": {
          "base_uri": "https://localhost:8080/"
        }
      },
      "execution_count": null,
      "outputs": [
        {
          "output_type": "stream",
          "name": "stdout",
          "text": [
            "Mounted at /content/drive\n"
          ]
        }
      ]
    },
    {
      "cell_type": "code",
      "source": [
        "%cd drive/MyDrive/data\n",
        "!ls"
      ],
      "metadata": {
        "id": "zpF78oIqxGIz",
        "outputId": "349c58db-af86-4441-9aac-b6cf08e9d4c0",
        "colab": {
          "base_uri": "https://localhost:8080/"
        }
      },
      "execution_count": null,
      "outputs": [
        {
          "output_type": "stream",
          "name": "stdout",
          "text": [
            "/content/drive/MyDrive/data\n",
            " bookprice.csv\t Dog\t\t\t       'Lenna_(test_image).png'   rainfall_data.csv\n",
            " Cat\t\t'gray_Lenna_(test_image).png'   PetImagesSmall.zip\n"
          ]
        }
      ]
    },
    {
      "cell_type": "code",
      "source": [
        "data = pd.read_csv(\"rainfall_data.csv\")\n",
        "#print(data)\n",
        "data.head(56)\n",
        "#print(data.columns)\n"
      ],
      "metadata": {
        "id": "-qPjj5E5xRjt"
      },
      "execution_count": null,
      "outputs": []
    },
    {
      "cell_type": "code",
      "source": [
        "a,b = data[\"Average Precipitation (past 10 days)(mm)\"].to_numpy(), data[\" Possibility of Rainfall on 11th Day (%)\"].to_numpy()\n"
      ],
      "metadata": {
        "id": "n8PCR45z08G-"
      },
      "execution_count": null,
      "outputs": []
    },
    {
      "cell_type": "code",
      "source": [
        "a_mean = np.sum(a)/a.size\n",
        "b_mean = np.sum(b)/b.size\n",
        "\n",
        "a_demean = a - a_mean\n",
        "b_demean = b - b_mean\n",
        "\n",
        "std_a = np.sqrt(np.dot(a_demean, a_demean)/a_demean.size)\n",
        "std_b = np.sqrt(np.dot(b_demean, b_demean)/b_demean.size)\n",
        "\n",
        "pearson_rho = np.dot(a_demean, b_demean)/np.sqrt(np.dot(a_demean, a_demean) * np.dot(b_demean, b_demean))\n",
        "\n",
        "c2 = pearson_rho * (std_b/std_a)\n",
        "c1 = b_mean - c2 * a_mean"
      ],
      "metadata": {
        "id": "uCwsFFnb07_Z"
      },
      "execution_count": null,
      "outputs": []
    },
    {
      "cell_type": "code",
      "source": [
        "print(c1, c2)"
      ],
      "metadata": {
        "colab": {
          "base_uri": "https://localhost:8080/"
        },
        "id": "gFuYiX2QOItT",
        "outputId": "b92e76ab-adf9-418f-aafc-382ac901d8f6"
      },
      "execution_count": null,
      "outputs": [
        {
          "output_type": "stream",
          "name": "stdout",
          "text": [
            "15.034654819338627 1.2077835075638372\n"
          ]
        }
      ]
    },
    {
      "cell_type": "code",
      "source": [
        "def f(x):\n",
        "  return c1 + c2*x"
      ],
      "metadata": {
        "id": "zA5p4tu64ORF"
      },
      "execution_count": null,
      "outputs": []
    },
    {
      "cell_type": "code",
      "source": [
        "min_point= np.min(a)\n",
        "max_point= np.max(a)\n",
        "x = np.linspace(min_point, max_point, 100)\n",
        "y = f(x)\n",
        "print(min_point, max_point)\n",
        "plt.scatter(a, b)\n",
        "plt.plot(x, y, \"y\")\n",
        "plt.xlabel(\"Average Precipitation (past 10 days)(mm)\")\n",
        "plt.ylabel(\"Possibility of Rainfall on 11th Day (%)\")\n",
        "plt.show()"
      ],
      "metadata": {
        "id": "jULEnR0F4ZRc",
        "colab": {
          "base_uri": "https://localhost:8080/",
          "height": 466
        },
        "outputId": "4f9818de-d093-4016-98bd-66f944694e93"
      },
      "execution_count": null,
      "outputs": [
        {
          "output_type": "stream",
          "name": "stdout",
          "text": [
            "25.6 66.5\n"
          ]
        },
        {
          "output_type": "display_data",
          "data": {
            "text/plain": [
              "<Figure size 640x480 with 1 Axes>"
            ],
            "image/png": "[encoded data removed]"
          },
          "metadata": {}
        }
      ]
    },
    {
      "cell_type": "code",
      "source": [
        "def f_L_R(x):\n",
        "  return linear_coeffs[1] + linear_coeffs[0]*x"
      ],
      "metadata": {
        "id": "ioIa-zZ1NkFB"
      },
      "execution_count": null,
      "outputs": []
    },
    {
      "cell_type": "code",
      "source": [
        "def f_Q_R(x):\n",
        "  return quadratic_coeffs[2] + quadratic_coeffs[1]*x + quadratic_coeffs[0]*x**2"
      ],
      "metadata": {
        "id": "_V_Sj-6KPl0V"
      },
      "execution_count": null,
      "outputs": []
    },
    {
      "cell_type": "code",
      "source": [
        "\n",
        "# Linear regression\n",
        "linear_coeffs = np.polyfit(a, b, 1)\n",
        "b_pred = f_L_R(a)\n",
        "error = b - b_pred\n",
        "\n",
        "SSE = np.dot(error, error)\n",
        "SST = np.dot(b_demean, b_demean)\n",
        "\n",
        "linear_r_squared = 1 - SSE/SST\n",
        "\n",
        "# Quadratic regression\n",
        "quadratic_coeffs = np.polyfit(a, b, 2)\n",
        "b_pred = f_Q_R(a)\n",
        "error = b - b_pred\n",
        "\n",
        "SSE = np.dot(error, error)\n",
        "SST = np.dot(b_demean, b_demean)\n",
        "\n",
        "quadratic_r_squared = 1 - SSE/SST\n",
        "\n",
        "print(f\"R-squared value for Linear Regression: {linear_r_squared}\" )\n",
        "print(f\"R-squared value for Quadratic Regression: {quadratic_r_squared}\")"
      ],
      "metadata": {
        "colab": {
          "base_uri": "https://localhost:8080/"
        },
        "id": "vWFNB9MlJj75",
        "outputId": "6550652b-72dc-4408-8379-005f97a85c52"
      },
      "execution_count": null,
      "outputs": [
        {
          "output_type": "stream",
          "name": "stdout",
          "text": [
            "R-squared value for Linear Regression: 0.9774714628301312\n",
            "R-squared value for Quadratic Regression: 0.9881519664679186\n"
          ]
        }
      ]
    }
  ]
}